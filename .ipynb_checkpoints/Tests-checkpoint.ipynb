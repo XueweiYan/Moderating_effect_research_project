{
 "cells": [
  {
   "cell_type": "markdown",
   "metadata": {},
   "source": [
    "# This document is for testing purpose only."
   ]
  },
  {
   "cell_type": "code",
   "execution_count": 1,
   "metadata": {},
   "outputs": [],
   "source": [
    "import pandas as pd\n",
    "import numpy as np\n",
    "from sklearn.linear_model import LinearRegression"
   ]
  },
  {
   "cell_type": "code",
   "execution_count": 90,
   "metadata": {},
   "outputs": [],
   "source": [
    "s1 = (\n",
    "    pd\n",
    "    .read_excel(\"database/1_manager_bio_info/1_manager_bio_info.xlsx\", usecols={\"Stkcd\", \"PersonID\", \"Reptdt\", \"Gender\", \"Age\", \"Degree\"})\n",
    "    .drop([0,1])\n",
    ")\n",
    "\n",
    "s2 = (\n",
    "    pd\n",
    "    .read_excel(\"database/2_manager_tenure/2_manager_tenure.xlsx\", usecols=[\"Stkcd\", \"Reptdt\", \"PersonID\", \"Tenure\"])\n",
    "    .drop([0,1])\n",
    ")"
   ]
  },
  {
   "cell_type": "code",
   "execution_count": 91,
   "metadata": {},
   "outputs": [],
   "source": [
    "df = s1.merge(s2, how=\"inner\", left_on=[\"Stkcd\", \"Reptdt\", \"PersonID\"], right_on=[\"Stkcd\", \"Reptdt\", \"PersonID\"]).dropna()"
   ]
  },
  {
   "cell_type": "code",
   "execution_count": 92,
   "metadata": {
    "scrolled": true
   },
   "outputs": [
    {
     "data": {
      "text/html": [
       "<div>\n",
       "<style scoped>\n",
       "    .dataframe tbody tr th:only-of-type {\n",
       "        vertical-align: middle;\n",
       "    }\n",
       "\n",
       "    .dataframe tbody tr th {\n",
       "        vertical-align: top;\n",
       "    }\n",
       "\n",
       "    .dataframe thead th {\n",
       "        text-align: right;\n",
       "    }\n",
       "</style>\n",
       "<table border=\"1\" class=\"dataframe\">\n",
       "  <thead>\n",
       "    <tr style=\"text-align: right;\">\n",
       "      <th></th>\n",
       "      <th>Stkcd</th>\n",
       "      <th>Reptdt</th>\n",
       "      <th>PersonID</th>\n",
       "      <th>Gender</th>\n",
       "      <th>Age</th>\n",
       "      <th>Degree</th>\n",
       "      <th>Tenure</th>\n",
       "    </tr>\n",
       "  </thead>\n",
       "  <tbody>\n",
       "    <tr>\n",
       "      <th>0</th>\n",
       "      <td>000008</td>\n",
       "      <td>2012-12-31</td>\n",
       "      <td>3032514</td>\n",
       "      <td>男</td>\n",
       "      <td>49</td>\n",
       "      <td>2</td>\n",
       "      <td>8.750000</td>\n",
       "    </tr>\n",
       "    <tr>\n",
       "      <th>1</th>\n",
       "      <td>000008</td>\n",
       "      <td>2012-12-31</td>\n",
       "      <td>3032514</td>\n",
       "      <td>男</td>\n",
       "      <td>49</td>\n",
       "      <td>2</td>\n",
       "      <td>9.500000</td>\n",
       "    </tr>\n",
       "    <tr>\n",
       "      <th>2</th>\n",
       "      <td>000012</td>\n",
       "      <td>2011-12-31</td>\n",
       "      <td>3047844</td>\n",
       "      <td>男</td>\n",
       "      <td>47</td>\n",
       "      <td>4</td>\n",
       "      <td>5.333333</td>\n",
       "    </tr>\n",
       "    <tr>\n",
       "      <th>3</th>\n",
       "      <td>000012</td>\n",
       "      <td>2011-12-31</td>\n",
       "      <td>3047844</td>\n",
       "      <td>男</td>\n",
       "      <td>47</td>\n",
       "      <td>4</td>\n",
       "      <td>3.666667</td>\n",
       "    </tr>\n",
       "    <tr>\n",
       "      <th>4</th>\n",
       "      <td>000012</td>\n",
       "      <td>2011-12-31</td>\n",
       "      <td>3047844</td>\n",
       "      <td>男</td>\n",
       "      <td>47</td>\n",
       "      <td>4</td>\n",
       "      <td>9.583333</td>\n",
       "    </tr>\n",
       "    <tr>\n",
       "      <th>...</th>\n",
       "      <td>...</td>\n",
       "      <td>...</td>\n",
       "      <td>...</td>\n",
       "      <td>...</td>\n",
       "      <td>...</td>\n",
       "      <td>...</td>\n",
       "      <td>...</td>\n",
       "    </tr>\n",
       "    <tr>\n",
       "      <th>153693</th>\n",
       "      <td>000959</td>\n",
       "      <td>2015-12-31</td>\n",
       "      <td>30560085</td>\n",
       "      <td>男</td>\n",
       "      <td>51</td>\n",
       "      <td>4</td>\n",
       "      <td>1.333333</td>\n",
       "    </tr>\n",
       "    <tr>\n",
       "      <th>153694</th>\n",
       "      <td>000959</td>\n",
       "      <td>2017-12-31</td>\n",
       "      <td>30560085</td>\n",
       "      <td>男</td>\n",
       "      <td>53</td>\n",
       "      <td>4</td>\n",
       "      <td>3.333333</td>\n",
       "    </tr>\n",
       "    <tr>\n",
       "      <th>153695</th>\n",
       "      <td>000959</td>\n",
       "      <td>2017-12-31</td>\n",
       "      <td>30560085</td>\n",
       "      <td>男</td>\n",
       "      <td>53</td>\n",
       "      <td>4</td>\n",
       "      <td>3.250000</td>\n",
       "    </tr>\n",
       "    <tr>\n",
       "      <th>153710</th>\n",
       "      <td>002074</td>\n",
       "      <td>2016-12-31</td>\n",
       "      <td>30568773</td>\n",
       "      <td>男</td>\n",
       "      <td>37</td>\n",
       "      <td>3</td>\n",
       "      <td>1.416667</td>\n",
       "    </tr>\n",
       "    <tr>\n",
       "      <th>153711</th>\n",
       "      <td>002074</td>\n",
       "      <td>2015-12-31</td>\n",
       "      <td>30568773</td>\n",
       "      <td>男</td>\n",
       "      <td>36</td>\n",
       "      <td>3</td>\n",
       "      <td>0.416667</td>\n",
       "    </tr>\n",
       "  </tbody>\n",
       "</table>\n",
       "<p>123910 rows × 7 columns</p>\n",
       "</div>"
      ],
      "text/plain": [
       "         Stkcd      Reptdt  PersonID Gender Age Degree    Tenure\n",
       "0       000008  2012-12-31   3032514      男  49      2  8.750000\n",
       "1       000008  2012-12-31   3032514      男  49      2  9.500000\n",
       "2       000012  2011-12-31   3047844      男  47      4  5.333333\n",
       "3       000012  2011-12-31   3047844      男  47      4  3.666667\n",
       "4       000012  2011-12-31   3047844      男  47      4  9.583333\n",
       "...        ...         ...       ...    ...  ..    ...       ...\n",
       "153693  000959  2015-12-31  30560085      男  51      4  1.333333\n",
       "153694  000959  2017-12-31  30560085      男  53      4  3.333333\n",
       "153695  000959  2017-12-31  30560085      男  53      4  3.250000\n",
       "153710  002074  2016-12-31  30568773      男  37      3  1.416667\n",
       "153711  002074  2015-12-31  30568773      男  36      3  0.416667\n",
       "\n",
       "[123910 rows x 7 columns]"
      ]
     },
     "execution_count": 92,
     "metadata": {},
     "output_type": "execute_result"
    }
   ],
   "source": [
    "df[\"Tenure\"] = df[\"Tenure\"].astype(int) / 12\n",
    "df"
   ]
  },
  {
   "cell_type": "code",
   "execution_count": 93,
   "metadata": {},
   "outputs": [],
   "source": [
    "df[\"rand\"] = np.random.random_sample(len(df))\n",
    "df = df.loc[df[\"rand\"] < 0.005]"
   ]
  },
  {
   "cell_type": "code",
   "execution_count": 94,
   "metadata": {},
   "outputs": [
    {
     "data": {
      "text/plain": [
       "0.05817219722210243"
      ]
     },
     "execution_count": 94,
     "metadata": {},
     "output_type": "execute_result"
    }
   ],
   "source": [
    "x = df[['Age']]\n",
    "y = df['Tenure']\n",
    "reg = LinearRegression().fit(x,y)\n",
    "reg.score(x,y)"
   ]
  },
  {
   "cell_type": "code",
   "execution_count": 95,
   "metadata": {},
   "outputs": [
    {
     "data": {
      "text/plain": [
       "<matplotlib.axes._subplots.AxesSubplot at 0x23ccf7ef6c8>"
      ]
     },
     "execution_count": 95,
     "metadata": {},
     "output_type": "execute_result"
    },
    {
     "data": {
      "image/png": "[encoded data removed]",
      "text/plain": [
       "<Figure size 432x288 with 1 Axes>"
      ]
     },
     "metadata": {
      "needs_background": "light"
     },
     "output_type": "display_data"
    }
   ],
   "source": [
    "df.plot.scatter(x=\"Age\", y=\"Tenure\")"
   ]
  },
  {
   "cell_type": "code",
   "execution_count": 97,
   "metadata": {},
   "outputs": [
    {
     "data": {
      "text/html": [
       "<div>\n",
       "<style scoped>\n",
       "    .dataframe tbody tr th:only-of-type {\n",
       "        vertical-align: middle;\n",
       "    }\n",
       "\n",
       "    .dataframe tbody tr th {\n",
       "        vertical-align: top;\n",
       "    }\n",
       "\n",
       "    .dataframe thead th {\n",
       "        text-align: right;\n",
       "    }\n",
       "</style>\n",
       "<table border=\"1\" class=\"dataframe\">\n",
       "  <thead>\n",
       "    <tr style=\"text-align: right;\">\n",
       "      <th></th>\n",
       "      <th>Age</th>\n",
       "      <th>Tenure</th>\n",
       "      <th>rand</th>\n",
       "    </tr>\n",
       "  </thead>\n",
       "  <tbody>\n",
       "    <tr>\n",
       "      <th>Age</th>\n",
       "      <td>1.000000</td>\n",
       "      <td>0.241189</td>\n",
       "      <td>-0.013998</td>\n",
       "    </tr>\n",
       "    <tr>\n",
       "      <th>Tenure</th>\n",
       "      <td>0.241189</td>\n",
       "      <td>1.000000</td>\n",
       "      <td>0.007885</td>\n",
       "    </tr>\n",
       "    <tr>\n",
       "      <th>rand</th>\n",
       "      <td>-0.013998</td>\n",
       "      <td>0.007885</td>\n",
       "      <td>1.000000</td>\n",
       "    </tr>\n",
       "  </tbody>\n",
       "</table>\n",
       "</div>"
      ],
      "text/plain": [
       "             Age    Tenure      rand\n",
       "Age     1.000000  0.241189 -0.013998\n",
       "Tenure  0.241189  1.000000  0.007885\n",
       "rand   -0.013998  0.007885  1.000000"
      ]
     },
     "execution_count": 97,
     "metadata": {},
     "output_type": "execute_result"
    }
   ],
   "source": [
    "df.astype({\"Age\": int}).corr(\"pearson\")"
   ]
  },
  {
   "cell_type": "code",
   "execution_count": null,
   "metadata": {},
   "outputs": [],
   "source": []
  },
  {
   "cell_type": "markdown",
   "metadata": {},
   "source": [
    "## Test 2: 2020-09-18 00:17"
   ]
  },
  {
   "cell_type": "code",
   "execution_count": 25,
   "metadata": {
    "scrolled": true
   },
   "outputs": [],
   "source": [
    "df = pd.read_excel(\"updated_excels/20200918.xlsx\", dtype={\"Code\": str})"
   ]
  },
  {
   "cell_type": "code",
   "execution_count": 26,
   "metadata": {},
   "outputs": [],
   "source": [
    "fbi = pd.read_excel(\"database/3_firm_basic_info/3_firm_basic_info.xlsx\").drop([0,1])\n",
    "m2 = fbi.loc[pd.to_datetime(fbi[\"ListedDate\"]).dt.year < 2012][[\"Stkcd\"]]"
   ]
  },
  {
   "cell_type": "code",
   "execution_count": 28,
   "metadata": {},
   "outputs": [],
   "source": [
    "df = df.merge(m2, how=\"inner\", left_on=\"Code\", right_on=\"Stkcd\")"
   ]
  },
  {
   "cell_type": "code",
   "execution_count": 29,
   "metadata": {},
   "outputs": [],
   "source": [
    "df.to_excel(\"modified202009180026.xlsx\", index=False)"
   ]
  }
 ],
 "metadata": {
  "kernelspec": {
   "display_name": "Python 3",
   "language": "python",
   "name": "python3"
  },
  "language_info": {
   "codemirror_mode": {
    "name": "ipython",
    "version": 3
   },
   "file_extension": ".py",
   "mimetype": "text/x-python",
   "name": "python",
   "nbconvert_exporter": "python",
   "pygments_lexer": "ipython3",
   "version": "3.7.6"
  }
 },
 "nbformat": 4,
 "nbformat_minor": 4
}
