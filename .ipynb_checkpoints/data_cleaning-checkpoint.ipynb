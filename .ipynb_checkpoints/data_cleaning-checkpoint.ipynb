{
 "cells": [
  {
   "cell_type": "markdown",
   "metadata": {},
   "source": [
    "# Data Cleaning\n",
    "\n",
    "This file cleans the raw data from separate databases, merging them together with a pivot indexing column in Table #9."
   ]
  },
  {
   "cell_type": "code",
   "execution_count": 1,
   "metadata": {},
   "outputs": [],
   "source": [
    "import numpy as np\n",
    "import pandas as pd\n",
    "from itertools import product"
   ]
  },
  {
   "cell_type": "markdown",
   "metadata": {},
   "source": [
    "## PART 0: Load datasets"
   ]
  },
  {
   "cell_type": "code",
   "execution_count": 2,
   "metadata": {},
   "outputs": [],
   "source": [
    "tbl_1 = pd.read_excel(\n",
    "    io=\"database/1_manager_bio_info/1_manager_bio_info.xlsx\",\n",
    "    usecols={\"Stkcd\", \"PersonID\", \"Reptdt\", \"Gender\", \"Age\", \"Degree\"}\n",
    ").drop([0,1]).reset_index(drop=True)"
   ]
  },
  {
   "cell_type": "code",
   "execution_count": 3,
   "metadata": {},
   "outputs": [],
   "source": [
    "tbl_2 = pd.read_excel(\n",
    "    io=\"database/2_manager_tenure/2_manager_tenure.xlsx\",\n",
    "    usecols=[\"Stkcd\", \"Reptdt\", \"PersonID\", \"Tenure\"]\n",
    ").drop([0,1]).reset_index(drop=True)"
   ]
  },
  {
   "cell_type": "code",
   "execution_count": 4,
   "metadata": {},
   "outputs": [],
   "source": [
    "tbl_3 = pd.read_excel(\n",
    "    io=\"database/3_firm_basic_info/3_firm_basic_info.xlsx\",\n",
    "    usecols=[\"Stkcd\", \"EstablishDate\"]\n",
    ").drop([0,1]).reset_index(drop=True)"
   ]
  },
  {
   "cell_type": "code",
   "execution_count": 5,
   "metadata": {},
   "outputs": [],
   "source": [
    "tbl_4 = pd.read_excel(\n",
    "    io=\"database/4_green_patent_declared/4_patent_declared.xlsx\", \n",
    "    usecols=[\"股市代码，修正后\", \"年份\", \"合计\"], \n",
    "    dtype={\"股市代码，修正后\": str, \"年份\": int, \"合计\": int}\n",
    ").rename(columns={\"股市代码，修正后\": \"Stkcd\", \"年份\": \"Year\", \"合计\": \"GI1\"})"
   ]
  },
  {
   "cell_type": "code",
   "execution_count": 6,
   "metadata": {},
   "outputs": [],
   "source": [
    "tbl_5 = pd.read_excel(\n",
    "    io=\"database/5_gov_investment/5_gov_investment.xlsx\",\n",
    "    usecols=[\"Stkcd\", \"Accper\", \"Fn05601\", \"Fn05602\"]\n",
    ").drop([0,1]).reset_index(drop=True)\n",
    "tbl_5 = tbl_5.loc[tbl_5[\"Fn05601\"]==\"合计\"][[\"Stkcd\", \"Accper\", \"Fn05602\"]]"
   ]
  },
  {
   "cell_type": "code",
   "execution_count": 7,
   "metadata": {},
   "outputs": [],
   "source": [
    "tbl_6 = (\n",
    "    pd.read_excel(io=\"database/6_profit/6_profit.xlsx\")\n",
    "    .drop(0)\n",
    "    .reset_index(drop=True)\n",
    "    .rename(columns={\"B001101000\": \"Revenue\", \"B002000000\": \"NetProfit\"})\n",
    ")"
   ]
  },
  {
   "cell_type": "code",
   "execution_count": 8,
   "metadata": {},
   "outputs": [],
   "source": [
    "tbl_7 = (\n",
    "    pd.read_excel(\n",
    "        io=\"database/7_balance_sheet/7_balance_sheet.xlsx\",\n",
    "        usecols=[\"Stkcd\", \"Accper\", \"A001000000\"]\n",
    "    )\n",
    "    .drop([0])\n",
    "    .reset_index(drop=True)\n",
    "    .rename(columns={\"Accper\": \"Year\", \"A001000000\": \"TotalAssets\"})\n",
    ")"
   ]
  },
  {
   "cell_type": "code",
   "execution_count": 9,
   "metadata": {},
   "outputs": [],
   "source": [
    "tbl_8 = pd.read_excel(\n",
    "    io=\"database/8_equity_nature/8_equity_nature.xlsx\",\n",
    "    usecols={\"Symbol\", \"EndDate\", \"EquityNatureID\"},\n",
    ").drop([0,1]).reset_index(drop=True).rename(columns={\"Symbol\": \"Stkcd\"})"
   ]
  },
  {
   "cell_type": "code",
   "execution_count": 10,
   "metadata": {},
   "outputs": [],
   "source": [
    "tbl_9 = pd.read_excel(\n",
    "    io=\"database/9_stock_code_pivot/9_stock_code_pivot.xlsx\",\n",
    "    dtype={0: str, 1: str}\n",
    ").rename(columns={\"code\": \"Stkcd\", \"name\": \"Name\"})"
   ]
  },
  {
   "cell_type": "code",
   "execution_count": 11,
   "metadata": {},
   "outputs": [],
   "source": [
    "tbl_10 = (\n",
    "    pd.read_excel(io=\"database/10_ROA_ROE/10_ROA_ROE.xlsx\", skiprows=[0], dtype={\"Stkcd\": str})\n",
    "    .rename(columns={\"T40402\": \"ROA\", \"T40802\": \"ROE\"})\n",
    ")"
   ]
  },
  {
   "cell_type": "code",
   "execution_count": 12,
   "metadata": {},
   "outputs": [],
   "source": [
    "tbl_11 = (\n",
    "    pd.read_excel(io=\"database/11_RDSpendSum/11_RDSpendSum.xlsx\")\n",
    "    .drop([0,1])\n",
    "    .rename(columns={\"Symbol\": \"Stkcd\"})\n",
    ")"
   ]
  },
  {
   "cell_type": "code",
   "execution_count": 13,
   "metadata": {},
   "outputs": [],
   "source": [
    "tbl_12 = (\n",
    "    pd.read_excel(\n",
    "        io=\"database/12_green_patent_obtained/12_green_patent_obtained.xlsx\",\n",
    "        usecols=[\"股市代码\", \"年份\", \"合计\"],\n",
    "        dtype={\"股市代码\": str}\n",
    "    )\n",
    "    .rename(columns={\"股市代码\": \"Stkcd\", \"年份\": \"Year\", \"合计\": \"GI2\"})\n",
    ")"
   ]
  },
  {
   "cell_type": "code",
   "execution_count": 14,
   "metadata": {},
   "outputs": [],
   "source": [
    "tbl_13 = (\n",
    "    pd.read_excel(io=\"database/13_TQ/13_TQ.xlsx\")\n",
    "    .drop([0,1])\n",
    "    .reset_index(drop=True)\n",
    "    .rename(columns={\"F100901A\": \"TQA\", \"F100902A\": \"TQB\", \"F100903A\": \"TQC\", \"F100904A\": \"TQD\"})\n",
    ")"
   ]
  },
  {
   "cell_type": "code",
   "execution_count": 15,
   "metadata": {},
   "outputs": [],
   "source": [
    "tbl_14 = (\n",
    "    pd.read_excel(io=\"database/14_CR/14_CR.xlsx\", usecols=[\"Stkcd\", \"Reptdt\", \"Shrcr1\"])\n",
    "    .drop([0,1])\n",
    "    .reset_index(drop=True)\n",
    "    .rename(columns={\"Shrcr1\": \"Cr\"})\n",
    ")"
   ]
  },
  {
   "cell_type": "code",
   "execution_count": 16,
   "metadata": {},
   "outputs": [],
   "source": [
    "tbl_15 = (\n",
    "    pd.read_excel(\n",
    "        io=\"database/15_board/15_board.xlsx\",\n",
    "        usecols=[\"Stkcd\", \"Reptdt\", \"Y1101c\"]\n",
    "    )\n",
    "    .drop([0,1]).reset_index(drop=True).rename(columns={\"Y1101c\": \"Indep\"})\n",
    ")"
   ]
  },
  {
   "cell_type": "code",
   "execution_count": null,
   "metadata": {},
   "outputs": [],
   "source": []
  },
  {
   "cell_type": "markdown",
   "metadata": {},
   "source": [
    "## Part 1: Cleaning"
   ]
  },
  {
   "cell_type": "code",
   "execution_count": 17,
   "metadata": {},
   "outputs": [],
   "source": [
    "tbl_1_clean = tbl_1.loc[(~tbl_1[\"Gender\"].isnull()) & (tbl_1[\"Degree\"] <= \"5\")]\n",
    "tbl_1_clean = tbl_1_clean.assign(Year=pd.to_datetime(tbl_1_clean[\"Reptdt\"]).dt.year)  # Rescale to Year\n",
    "tbl_1_clean[\"Gender\"] = (tbl_1_clean[\"Gender\"]==\"女\").astype(int)  # Female=1, Male=0\n",
    "tbl_1_clean = tbl_1_clean[[\"Stkcd\", \"Year\", \"PersonID\", \"Gender\", \"Age\", \"Degree\"]]  # Remove irrelevant columns\n",
    "\n",
    "# Some managers are counted more than once in a year, aggregate those information so that\n",
    "# each record is unique up to Stkcd-Year-ID\n",
    "tbl_1_clean = (\n",
    "    tbl_1_clean\n",
    "    .astype({\"Age\": float, \"Degree\": float})\n",
    "    .groupby([\"Stkcd\", \"Year\", \"PersonID\"])\n",
    "    .agg({\"Gender\": \"mean\", \"Age\": \"mean\", \"Degree\": \"max\"})\n",
    "    .reset_index()\n",
    ")"
   ]
  },
  {
   "cell_type": "code",
   "execution_count": 18,
   "metadata": {},
   "outputs": [],
   "source": [
    "tbl_2_clean = tbl_2.assign(Year=pd.to_datetime(tbl_2[\"Reptdt\"]).dt.year)  # Rescale to Year\n",
    "tbl_2_clean = tbl_2_clean[[\"Stkcd\", \"Year\", \"PersonID\", \"Tenure\"]].astype({\"Tenure\": float})\n",
    "tbl_2_clean.Tenure = tbl_2_clean.Tenure / 12\n",
    "tbl_2_clean = tbl_2_clean.groupby([\"Stkcd\", \"Year\", \"PersonID\"]).agg({\"Tenure\": \"mean\"}).reset_index()"
   ]
  },
  {
   "cell_type": "code",
   "execution_count": 19,
   "metadata": {},
   "outputs": [],
   "source": [
    "tbl_3_clean = tbl_3.copy(deep=True)"
   ]
  },
  {
   "cell_type": "code",
   "execution_count": 20,
   "metadata": {},
   "outputs": [],
   "source": [
    "tbl_4_clean = tbl_4.copy(deep=True)"
   ]
  },
  {
   "cell_type": "code",
   "execution_count": 21,
   "metadata": {},
   "outputs": [],
   "source": [
    "tbl_5_clean = tbl_5.assign(Year=pd.to_datetime(tbl_5[\"Accper\"]).dt.year)\n",
    "tbl_5_clean = tbl_5_clean.rename(columns={\"Fn05602\": \"Gov1\"}).drop(columns=[\"Accper\"])\n",
    "tbl_5_clean = tbl_5_clean.groupby([\"Stkcd\", \"Year\"]).sum().reset_index()  # There are two types of balance sheets\n",
    "tbl_5_clean.Gov1 = tbl_5_clean.Gov1.apply(np.log)"
   ]
  },
  {
   "cell_type": "code",
   "execution_count": 22,
   "metadata": {},
   "outputs": [],
   "source": [
    "tbl_6_clean = tbl_6.assign(Year=pd.to_datetime(tbl_6.Accper).dt.year)\n",
    "tbl_6_clean = tbl_6_clean.astype({\"Stkcd\": str, \"Year\": int, \"Revenue\": float, \"NetProfit\": float})\n",
    "next_year = tbl_6_clean.drop(0).reset_index(drop=True)\n",
    "tbl_6_clean = tbl_6_clean.merge(next_year, how=\"inner\", left_index=True, right_index=True, suffixes=[\"PrevYear\", None])\n",
    "tbl_6_clean = tbl_6_clean.loc[tbl_6_clean[\"Year\"]!=2010, [\"Stkcd\", \"Year\", \"RevenuePrevYear\", \"Revenue\", \"NetProfit\"]]\n",
    "tbl_6_clean[\"Growth\"] = (tbl_6_clean[\"Revenue\"] - tbl_6_clean[\"RevenuePrevYear\"]) / (tbl_6_clean[\"RevenuePrevYear\"].fillna(0) + 0.01)\n",
    "tbl_6_clean = tbl_6_clean[[\"Stkcd\", \"Year\", \"Revenue\", \"Growth\", \"NetProfit\"]]\n",
    "tbl_6_clean.Revenue = tbl_6_clean.Revenue.apply(np.log)\n",
    "tbl_6_clean.NetProfit = tbl_6_clean.NetProfit.apply(np.log)\n",
    "tbl_6_clean = tbl_6_clean.rename(columns={\"Revenue\": \"LogRevenue\", \"NetProfit\": \"LogNetProfit\"})"
   ]
  },
  {
   "cell_type": "code",
   "execution_count": 23,
   "metadata": {},
   "outputs": [],
   "source": [
    "tbl_7_clean = tbl_7.copy(deep=True)\n",
    "tbl_7_clean.TotalAssets = tbl_7_clean.TotalAssets.apply(np.float).apply(np.log)\n",
    "tbl_7_clean.Year = pd.to_datetime(tbl_7_clean.Year).dt.year  # Rescale to Year\n",
    "tbl_7_clean = tbl_7_clean.rename(columns={\"TotalAssets\": \"Size\"})"
   ]
  },
  {
   "cell_type": "code",
   "execution_count": 24,
   "metadata": {},
   "outputs": [],
   "source": [
    "tbl_8_clean = tbl_8.assign(Year=pd.to_datetime(tbl_8[\"EndDate\"]).dt.year)\n",
    "tbl_8_clean = tbl_8_clean.assign(Soe=tbl_8_clean[\"EquityNatureID\"]==\"1\")\n",
    "tbl_8_clean = tbl_8_clean[[\"Stkcd\", \"Year\", \"Soe\"]]"
   ]
  },
  {
   "cell_type": "code",
   "execution_count": 25,
   "metadata": {},
   "outputs": [],
   "source": [
    "tbl_9_clean = tbl_9.copy(deep=True)"
   ]
  },
  {
   "cell_type": "code",
   "execution_count": 26,
   "metadata": {},
   "outputs": [],
   "source": [
    "tbl_10_clean = tbl_10.assign(Year=pd.to_datetime(tbl_10[\"Accper\"]).dt.year)\n",
    "tbl_10_clean = tbl_10_clean[[\"Stkcd\", \"Year\", \"ROA\", \"ROE\"]]"
   ]
  },
  {
   "cell_type": "code",
   "execution_count": 27,
   "metadata": {},
   "outputs": [],
   "source": [
    "tbl_11_clean = tbl_11.assign(Year=pd.to_datetime(tbl_11[\"EndDate\"]).dt.year)\n",
    "tbl_11_clean = tbl_11_clean[[\"Stkcd\", \"Year\", \"RDSpendSum\"]]"
   ]
  },
  {
   "cell_type": "code",
   "execution_count": 28,
   "metadata": {},
   "outputs": [],
   "source": [
    "tbl_12_clean = tbl_12.copy(deep=True)"
   ]
  },
  {
   "cell_type": "code",
   "execution_count": 29,
   "metadata": {},
   "outputs": [],
   "source": [
    "tbl_13_clean = tbl_13.loc[pd.to_datetime(tbl_13[\"Accper\"]).dt.month == 12]\n",
    "tbl_13_clean = tbl_13_clean.assign(Year=pd.to_datetime(tbl_13_clean[\"Accper\"]).dt.year)\n",
    "tbl_13_clean = tbl_13_clean[[\"Stkcd\", \"Year\", \"TQA\", \"TQB\", \"TQC\", \"TQD\"]]"
   ]
  },
  {
   "cell_type": "code",
   "execution_count": 30,
   "metadata": {},
   "outputs": [],
   "source": [
    "tbl_14_clean = tbl_14.loc[pd.to_datetime(tbl_14[\"Reptdt\"]).dt.month == 12]\n",
    "tbl_14_clean = tbl_14_clean.assign(Year=pd.to_datetime(tbl_14_clean[\"Reptdt\"]).dt.year)\n",
    "tbl_14_clean = tbl_14_clean[[\"Stkcd\", \"Year\", \"Cr\"]]"
   ]
  },
  {
   "cell_type": "code",
   "execution_count": 31,
   "metadata": {},
   "outputs": [],
   "source": [
    "tbl_15_clean = tbl_15.assign(Year=pd.to_datetime(tbl_15[\"Reptdt\"]).dt.year)\n",
    "tbl_15_clean = tbl_15_clean[[\"Stkcd\", \"Year\", \"Indep\"]]"
   ]
  },
  {
   "cell_type": "code",
   "execution_count": null,
   "metadata": {},
   "outputs": [],
   "source": []
  },
  {
   "cell_type": "markdown",
   "metadata": {},
   "source": [
    "## Part 2: Merge"
   ]
  },
  {
   "cell_type": "code",
   "execution_count": 32,
   "metadata": {},
   "outputs": [],
   "source": [
    "# Pivot Columns\n",
    "df = tbl_9_clean\n",
    "\n",
    "df = df.merge(tbl_3_clean, how=\"left\", left_on=\"Stkcd\", right_on=\"Stkcd\")\n",
    "\n",
    "year = pd.DataFrame(range(2011, 2019), columns={\"Year\"})\n",
    "stkcd_year = pd.DataFrame(product(df[\"Stkcd\"], year[\"Year\"]))\n",
    "df = df.merge(stkcd_year, how=\"outer\", left_on=\"Stkcd\", right_on=0).drop(columns={0}).rename(columns={1: \"Year\"})\n",
    "\n",
    "\n",
    "# Dependent Variables\n",
    "df = df.merge(tbl_4_clean, how=\"left\", left_on=[\"Stkcd\", \"Year\"], right_on=[\"Stkcd\", \"Year\"])\n",
    "\n",
    "df = df.merge(tbl_12_clean, how=\"left\", left_on=[\"Stkcd\", \"Year\"], right_on=[\"Stkcd\", \"Year\"])\n",
    "\n",
    "\n",
    "# Independent Variables\n",
    "df = df.merge(tbl_5_clean, how=\"left\", left_on=[\"Stkcd\", \"Year\"], right_on=[\"Stkcd\", \"Year\"])\n",
    "\n",
    "\n",
    "# Impact Variables\n",
    "merge_12 = tbl_1_clean.merge(\n",
    "    tbl_2_clean, \n",
    "    how=\"left\", \n",
    "    left_on=[\"Stkcd\", \"Year\", \"PersonID\"], \n",
    "    right_on=[\"Stkcd\", \"Year\", \"PersonID\"]\n",
    ")\n",
    "merge_12 = (\n",
    "    merge_12\n",
    "    .groupby([\"Stkcd\", \"Year\"])\n",
    "    .agg({\"Gender\": \"mean\", \"Age\": \"mean\", \"Tenure\": \"mean\", \"Degree\": \"mean\"})\n",
    "    .reset_index()\n",
    ")\n",
    "merge_12 = merge_12.rename(columns={\n",
    "    \"Gender\": \"Gend\",\n",
    "    \"Age\": \"Aage\",\n",
    "    \"Degree\": \"Aedu\",\n",
    "    \"Tenure\": \"Aterm\"\n",
    "})\n",
    "df = df.merge(merge_12, how=\"left\", left_on=[\"Stkcd\", \"Year\"], right_on=[\"Stkcd\", \"Year\"])\n",
    "\n",
    "\n",
    "# Controlled variables\n",
    "df = df.merge(tbl_7_clean, how=\"left\", left_on=[\"Stkcd\", \"Year\"], right_on=[\"Stkcd\", \"Year\"])\n",
    "\n",
    "df = df.merge(tbl_10_clean, how=\"left\", left_on=[\"Stkcd\", \"Year\"], right_on=[\"Stkcd\", \"Year\"])\n",
    "\n",
    "df = df.merge(tbl_6_clean, how=\"left\", left_on=[\"Stkcd\", \"Year\"], right_on=[\"Stkcd\", \"Year\"])\n",
    "\n",
    "df = df.merge(tbl_13_clean, how=\"left\", left_on=[\"Stkcd\", \"Year\"], right_on=[\"Stkcd\", \"Year\"])\n",
    "\n",
    "df = df.merge(tbl_8_clean, how=\"left\", left_on=[\"Stkcd\", \"Year\"], right_on=[\"Stkcd\", \"Year\"])\n",
    "\n",
    "df[\"Age\"] = df[\"Year\"] - pd.to_datetime(df[\"EstablishDate\"]).dt.year\n",
    "\n",
    "df = df.merge(tbl_14_clean, how=\"left\", left_on=[\"Stkcd\", \"Year\"], right_on=[\"Stkcd\", \"Year\"])\n",
    "\n",
    "df = df.merge(tbl_15_clean, how=\"left\", left_on=[\"Stkcd\", \"Year\"], right_on=[\"Stkcd\", \"Year\"])\n",
    "\n",
    "df = df.merge(tbl_11_clean, how=\"left\", left_on=[\"Stkcd\", \"Year\"], right_on=[\"Stkcd\", \"Year\"])\n",
    "df = df.assign(Rdsale=df.RDSpendSum / np.exp(df.LogRevenue))\n",
    "df.RDSpendSum = df.RDSpendSum / np.exp(df.Size)\n",
    "df = df.rename(columns={\"RDSpendSum\": \"Input\"})\n",
    "\n",
    "df = df.drop(columns=[\"LogRevenue\", \"LogNetProfit\"])"
   ]
  },
  {
   "cell_type": "code",
   "execution_count": null,
   "metadata": {},
   "outputs": [],
   "source": []
  },
  {
   "cell_type": "markdown",
   "metadata": {},
   "source": [
    "## Part 3: Missingness"
   ]
  },
  {
   "cell_type": "code",
   "execution_count": 33,
   "metadata": {},
   "outputs": [],
   "source": [
    "df = df.loc[~df.isnull().any(axis=1)].reset_index(drop=True)\n",
    "df = df.astype({\n",
    "    \"Stkcd\": str, \"Name\": str, \"EstablishDate\": str, \"Year\": int,\n",
    "    \"GI1\": int, \"GI2\": int, \"Gov1\": float,\n",
    "    \"Gend\": float, \"Aage\": float, \"Aterm\": float, \"Aedu\": float,\n",
    "    \"Size\": float, \"ROA\": float, \"ROE\": float, \"Growth\": float,\n",
    "    \"TQA\": float, \"TQB\": float, \"TQC\": float, \"TQD\": float,\n",
    "    \"Soe\": int, \"Age\": int, \"Cr\": float, \"Indep\": float,\n",
    "    \"Input\": float, \"Rdsale\": float\n",
    "})"
   ]
  },
  {
   "cell_type": "code",
   "execution_count": null,
   "metadata": {},
   "outputs": [],
   "source": []
  },
  {
   "cell_type": "markdown",
   "metadata": {},
   "source": [
    "## Part 4: Output"
   ]
  },
  {
   "cell_type": "code",
   "execution_count": 34,
   "metadata": {},
   "outputs": [],
   "source": [
    "df.to_excel(\"202010091319.xlsx\", index=False)"
   ]
  },
  {
   "cell_type": "code",
   "execution_count": null,
   "metadata": {},
   "outputs": [],
   "source": []
  }
 ],
 "metadata": {
  "kernelspec": {
   "display_name": "Python 3",
   "language": "python",
   "name": "python3"
  },
  "language_info": {
   "codemirror_mode": {
    "name": "ipython",
    "version": 3
   },
   "file_extension": ".py",
   "mimetype": "text/x-python",
   "name": "python",
   "nbconvert_exporter": "python",
   "pygments_lexer": "ipython3",
   "version": "3.7.6"
  }
 },
 "nbformat": 4,
 "nbformat_minor": 4
}
